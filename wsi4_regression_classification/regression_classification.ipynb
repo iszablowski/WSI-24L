{
 "cells": [
  {
   "cell_type": "markdown",
   "metadata": {},
   "source": [
    "## WSI 24L\n",
    "### Ćwiczenie 4 - drzewa decyzyjne z ograniczeniem maksymalnej głębokości drzewa\n",
    "#### Igor Szabłowski"
   ]
  },
  {
   "cell_type": "code",
   "execution_count": 1,
   "metadata": {},
   "outputs": [],
   "source": [
    "import pandas as pd\n",
    "from sklearn.model_selection import train_test_split\n",
    "import numpy as np\n",
    "from sklearn.metrics import classification_report\n",
    "import matplotlib.pyplot as plt"
   ]
  },
  {
   "cell_type": "markdown",
   "metadata": {},
   "source": [
    "Jakość klasyfikatora będzie badana dla zbioru danych [Cardio Vascular Disease Detection](https://www.kaggle.com/datasets/bhadaneeraj/cardio-vascular-disease-detection). Pole cardio informuje o tym czy dana osoba posiada choroby sercowo-naczyniowe."
   ]
  },
  {
   "cell_type": "code",
   "execution_count": 2,
   "metadata": {},
   "outputs": [
    {
     "data": {
      "text/html": [
       "<div>\n",
       "<style scoped>\n",
       "    .dataframe tbody tr th:only-of-type {\n",
       "        vertical-align: middle;\n",
       "    }\n",
       "\n",
       "    .dataframe tbody tr th {\n",
       "        vertical-align: top;\n",
       "    }\n",
       "\n",
       "    .dataframe thead th {\n",
       "        text-align: right;\n",
       "    }\n",
       "</style>\n",
       "<table border=\"1\" class=\"dataframe\">\n",
       "  <thead>\n",
       "    <tr style=\"text-align: right;\">\n",
       "      <th></th>\n",
       "      <th>id</th>\n",
       "      <th>age</th>\n",
       "      <th>gender</th>\n",
       "      <th>height</th>\n",
       "      <th>weight</th>\n",
       "      <th>ap_hi</th>\n",
       "      <th>ap_lo</th>\n",
       "      <th>cholesterol</th>\n",
       "      <th>gluc</th>\n",
       "      <th>smoke</th>\n",
       "      <th>alco</th>\n",
       "      <th>active</th>\n",
       "      <th>cardio</th>\n",
       "    </tr>\n",
       "  </thead>\n",
       "  <tbody>\n",
       "    <tr>\n",
       "      <th>0</th>\n",
       "      <td>988</td>\n",
       "      <td>22469</td>\n",
       "      <td>1</td>\n",
       "      <td>155</td>\n",
       "      <td>69.0</td>\n",
       "      <td>130</td>\n",
       "      <td>80</td>\n",
       "      <td>2</td>\n",
       "      <td>2</td>\n",
       "      <td>0</td>\n",
       "      <td>0</td>\n",
       "      <td>1</td>\n",
       "      <td>0</td>\n",
       "    </tr>\n",
       "    <tr>\n",
       "      <th>1</th>\n",
       "      <td>989</td>\n",
       "      <td>14648</td>\n",
       "      <td>1</td>\n",
       "      <td>163</td>\n",
       "      <td>71.0</td>\n",
       "      <td>110</td>\n",
       "      <td>70</td>\n",
       "      <td>1</td>\n",
       "      <td>1</td>\n",
       "      <td>0</td>\n",
       "      <td>0</td>\n",
       "      <td>1</td>\n",
       "      <td>1</td>\n",
       "    </tr>\n",
       "    <tr>\n",
       "      <th>2</th>\n",
       "      <td>990</td>\n",
       "      <td>21901</td>\n",
       "      <td>1</td>\n",
       "      <td>165</td>\n",
       "      <td>70.0</td>\n",
       "      <td>120</td>\n",
       "      <td>80</td>\n",
       "      <td>1</td>\n",
       "      <td>1</td>\n",
       "      <td>0</td>\n",
       "      <td>0</td>\n",
       "      <td>1</td>\n",
       "      <td>0</td>\n",
       "    </tr>\n",
       "    <tr>\n",
       "      <th>3</th>\n",
       "      <td>991</td>\n",
       "      <td>14549</td>\n",
       "      <td>2</td>\n",
       "      <td>165</td>\n",
       "      <td>85.0</td>\n",
       "      <td>120</td>\n",
       "      <td>80</td>\n",
       "      <td>1</td>\n",
       "      <td>1</td>\n",
       "      <td>1</td>\n",
       "      <td>1</td>\n",
       "      <td>1</td>\n",
       "      <td>0</td>\n",
       "    </tr>\n",
       "    <tr>\n",
       "      <th>4</th>\n",
       "      <td>992</td>\n",
       "      <td>23393</td>\n",
       "      <td>1</td>\n",
       "      <td>155</td>\n",
       "      <td>62.0</td>\n",
       "      <td>120</td>\n",
       "      <td>80</td>\n",
       "      <td>1</td>\n",
       "      <td>1</td>\n",
       "      <td>0</td>\n",
       "      <td>0</td>\n",
       "      <td>1</td>\n",
       "      <td>0</td>\n",
       "    </tr>\n",
       "  </tbody>\n",
       "</table>\n",
       "</div>"
      ],
      "text/plain": [
       "    id    age  gender  height  weight  ap_hi  ap_lo  cholesterol  gluc  smoke  \\\n",
       "0  988  22469       1     155    69.0    130     80            2     2      0   \n",
       "1  989  14648       1     163    71.0    110     70            1     1      0   \n",
       "2  990  21901       1     165    70.0    120     80            1     1      0   \n",
       "3  991  14549       2     165    85.0    120     80            1     1      1   \n",
       "4  992  23393       1     155    62.0    120     80            1     1      0   \n",
       "\n",
       "   alco  active  cardio  \n",
       "0     0       1       0  \n",
       "1     0       1       1  \n",
       "2     0       1       0  \n",
       "3     1       1       0  \n",
       "4     0       1       0  "
      ]
     },
     "execution_count": 2,
     "metadata": {},
     "output_type": "execute_result"
    }
   ],
   "source": [
    "data = pd.read_csv('cardio_train.csv', delimiter=';')\n",
    "data.head()"
   ]
  },
  {
   "cell_type": "markdown",
   "metadata": {},
   "source": [
    "Część atrybutów w zbiorze nie jest dyskretna (wiek, wzrost, waga, ciśnienie skurczowe, ciśnienie rozkurczowe), więc zostały zdyskretyzowane według widocznych poniżej przedziałów."
   ]
  },
  {
   "cell_type": "code",
   "execution_count": 3,
   "metadata": {},
   "outputs": [
    {
     "data": {
      "text/html": [
       "<div>\n",
       "<style scoped>\n",
       "    .dataframe tbody tr th:only-of-type {\n",
       "        vertical-align: middle;\n",
       "    }\n",
       "\n",
       "    .dataframe tbody tr th {\n",
       "        vertical-align: top;\n",
       "    }\n",
       "\n",
       "    .dataframe thead th {\n",
       "        text-align: right;\n",
       "    }\n",
       "</style>\n",
       "<table border=\"1\" class=\"dataframe\">\n",
       "  <thead>\n",
       "    <tr style=\"text-align: right;\">\n",
       "      <th></th>\n",
       "      <th>id</th>\n",
       "      <th>age</th>\n",
       "      <th>gender</th>\n",
       "      <th>height</th>\n",
       "      <th>weight</th>\n",
       "      <th>ap_hi</th>\n",
       "      <th>ap_lo</th>\n",
       "      <th>cholesterol</th>\n",
       "      <th>gluc</th>\n",
       "      <th>smoke</th>\n",
       "      <th>alco</th>\n",
       "      <th>active</th>\n",
       "      <th>cardio</th>\n",
       "    </tr>\n",
       "  </thead>\n",
       "  <tbody>\n",
       "    <tr>\n",
       "      <th>0</th>\n",
       "      <td>988</td>\n",
       "      <td>2</td>\n",
       "      <td>1</td>\n",
       "      <td>0</td>\n",
       "      <td>1</td>\n",
       "      <td>1</td>\n",
       "      <td>0</td>\n",
       "      <td>2</td>\n",
       "      <td>2</td>\n",
       "      <td>0</td>\n",
       "      <td>0</td>\n",
       "      <td>1</td>\n",
       "      <td>0</td>\n",
       "    </tr>\n",
       "    <tr>\n",
       "      <th>1</th>\n",
       "      <td>989</td>\n",
       "      <td>0</td>\n",
       "      <td>1</td>\n",
       "      <td>1</td>\n",
       "      <td>2</td>\n",
       "      <td>0</td>\n",
       "      <td>0</td>\n",
       "      <td>1</td>\n",
       "      <td>1</td>\n",
       "      <td>0</td>\n",
       "      <td>0</td>\n",
       "      <td>1</td>\n",
       "      <td>1</td>\n",
       "    </tr>\n",
       "    <tr>\n",
       "      <th>2</th>\n",
       "      <td>990</td>\n",
       "      <td>2</td>\n",
       "      <td>1</td>\n",
       "      <td>1</td>\n",
       "      <td>1</td>\n",
       "      <td>0</td>\n",
       "      <td>0</td>\n",
       "      <td>1</td>\n",
       "      <td>1</td>\n",
       "      <td>0</td>\n",
       "      <td>0</td>\n",
       "      <td>1</td>\n",
       "      <td>0</td>\n",
       "    </tr>\n",
       "    <tr>\n",
       "      <th>3</th>\n",
       "      <td>991</td>\n",
       "      <td>0</td>\n",
       "      <td>2</td>\n",
       "      <td>1</td>\n",
       "      <td>2</td>\n",
       "      <td>0</td>\n",
       "      <td>0</td>\n",
       "      <td>1</td>\n",
       "      <td>1</td>\n",
       "      <td>1</td>\n",
       "      <td>1</td>\n",
       "      <td>1</td>\n",
       "      <td>0</td>\n",
       "    </tr>\n",
       "    <tr>\n",
       "      <th>4</th>\n",
       "      <td>992</td>\n",
       "      <td>2</td>\n",
       "      <td>1</td>\n",
       "      <td>0</td>\n",
       "      <td>1</td>\n",
       "      <td>0</td>\n",
       "      <td>0</td>\n",
       "      <td>1</td>\n",
       "      <td>1</td>\n",
       "      <td>0</td>\n",
       "      <td>0</td>\n",
       "      <td>1</td>\n",
       "      <td>0</td>\n",
       "    </tr>\n",
       "  </tbody>\n",
       "</table>\n",
       "</div>"
      ],
      "text/plain": [
       "    id age  gender height weight ap_hi ap_lo  cholesterol  gluc  smoke  alco  \\\n",
       "0  988   2       1      0      1     1     0            2     2      0     0   \n",
       "1  989   0       1      1      2     0     0            1     1      0     0   \n",
       "2  990   2       1      1      1     0     0            1     1      0     0   \n",
       "3  991   0       2      1      2     0     0            1     1      1     1   \n",
       "4  992   2       1      0      1     0     0            1     1      0     0   \n",
       "\n",
       "   active  cardio  \n",
       "0       1       0  \n",
       "1       1       1  \n",
       "2       1       0  \n",
       "3       1       0  \n",
       "4       1       0  "
      ]
     },
     "execution_count": 3,
     "metadata": {},
     "output_type": "execute_result"
    }
   ],
   "source": [
    "discretized_data = pd.DataFrame(index=data.index, columns=data.columns)\n",
    "data_to_discretize = ['age', 'height', 'weight', 'ap_hi', 'ap_lo']\n",
    "other_data = [column for column in data.columns if column not in data_to_discretize]\n",
    "discretized_data[other_data] = data[other_data]\n",
    "discretized_data['age'] = pd.cut(data['age'], bins=[-float('inf'), 15000, 20000, float('inf')], labels=[0, 1, 2])\n",
    "\n",
    "discretized_data['height'] = pd.cut(data['height'], bins=[-float('inf'), 160, 170, float('inf')], labels=[0, 1, 2])\n",
    "\n",
    "discretized_data['weight'] = pd.cut(data['weight'], bins=[-float('inf'), 60, 70, float('inf')], labels=[0, 1, 2])\n",
    "\n",
    "discretized_data['ap_hi'] = pd.cut(data['ap_hi'], bins=[-float('inf'), 120, 140, float('inf')], labels=[0, 1, 2])\n",
    "\n",
    "discretized_data['ap_lo'] = pd.cut(data['ap_lo'], bins=[-float('inf'), 80, 90, float('inf')], labels=[0, 1, 2])\n",
    "\n",
    "discretized_data.head()"
   ]
  },
  {
   "cell_type": "markdown",
   "metadata": {},
   "source": [
    "Dane zostały podzielone na trzy zbiory: trenujący, walidacyjny oraz testowy. Zbiór trenujący i testowy, a następnie trenujący i walidacyjny dzielą się w proporcjach 80/20. Zbiór testowy jest wykorzystywany dopiero w momencie ustalenia się parametrów, do finalnej oceny."
   ]
  },
  {
   "cell_type": "code",
   "execution_count": 4,
   "metadata": {},
   "outputs": [],
   "source": [
    "X = discretized_data.drop(columns='cardio')\n",
    "y = discretized_data['cardio']\n",
    "\n",
    "X_train, X_test, y_train, y_test = train_test_split(X, y, test_size=0.2, random_state=1)\n",
    "\n",
    "X_train, X_validation, y_train, y_validation = train_test_split(X_train, y_train, test_size=0.2, random_state=1)"
   ]
  },
  {
   "cell_type": "markdown",
   "metadata": {},
   "source": [
    "Zaimplementowane zostały drzewa decyzyjne tworzone algorytmem ID3 z ograniczeniem maksymalnej głębokości drzewa. Parametrami które przyjmuje konstruktory klasy są nazwy kolumn które będą brane pod uwagę podczas tworzenia drzewa, maksymalna głębokość drzewa, oraz bazowa wartość do predykcji."
   ]
  },
  {
   "cell_type": "code",
   "execution_count": 5,
   "metadata": {},
   "outputs": [],
   "source": [
    "class ID3:\n",
    "\n",
    "    def __init__(self, target_columns, max_depth, default_prediction):\n",
    "        self._default_prediction = default_prediction\n",
    "        self._target_columns = target_columns\n",
    "        self._max_depth = max_depth\n",
    "        self._tree = None\n",
    "\n",
    "    def get_parameters(self):\n",
    "        return {'target_columns': self._target_columns, 'max_depth': self._max_depth, 'default_prediction': self._default_prediction}\n",
    "    \n",
    "    def _calculate_entropy(self, X):\n",
    "        proportions = X.value_counts() / len(X)\n",
    "        entropy = -np.sum(proportions * np.log(proportions))\n",
    "        return entropy\n",
    "\n",
    "    \n",
    "    def _calculate_inf_gain(self, X, y):\n",
    "        set_entropy = self._calculate_entropy(y)\n",
    "        weighted_set_entropy = 0\n",
    "        for value in X.unique():\n",
    "            subset = y[X == value]\n",
    "            proportion = len(subset) / len(y)\n",
    "            entropy = self._calculate_entropy(subset)\n",
    "            weighted_set_entropy += proportion * entropy\n",
    "        return set_entropy - weighted_set_entropy\n",
    "    \n",
    "    def fit(self, X: pd.DataFrame, y, depth=0):\n",
    "\n",
    "        if X.isna().any().any():\n",
    "            X = X.fillna(X.mode().iloc[0])\n",
    "\n",
    "        if len(y) == 0 or depth == self._max_depth:\n",
    "            return np.random.choice(y.mode())\n",
    "        \n",
    "        if len(y.unique()) == 1:\n",
    "            return y.iloc[0]\n",
    "\n",
    "        best_inf_gain = -float('inf')\n",
    "        \n",
    "        for column in self._target_columns:\n",
    "            inf_gain = self._calculate_inf_gain(X[column], y)\n",
    "            if inf_gain > best_inf_gain:\n",
    "                best_inf_gain = inf_gain\n",
    "                best_feature = column\n",
    "            \n",
    "        if best_inf_gain == 0:\n",
    "            return np.random.choice(y.mode())\n",
    "\n",
    "        tree = {best_feature: {}}\n",
    "\n",
    "        for value in X[best_feature].unique():\n",
    "            subset_indexes = X[best_feature] == value\n",
    "            subset_X = X[subset_indexes]\n",
    "            subset_y = y[subset_indexes]\n",
    "            tree[best_feature][value] = self.fit(subset_X, subset_y, depth + 1)\n",
    "\n",
    "        self._tree = tree\n",
    "        return tree\n",
    "    \n",
    "    def predict(self, X: pd.DataFrame):\n",
    "\n",
    "        if X.isna().any().any():\n",
    "            X = X.fillna(X.mode().iloc[0])\n",
    "\n",
    "        predictions = []\n",
    "        for _, instance in X.iterrows():\n",
    "            prediction = self._predict_instance(instance, self._tree)\n",
    "            predictions.append(prediction)\n",
    "        return predictions\n",
    "    \n",
    "    def _predict_instance(self, instance, tree):\n",
    "        for feature, subtree in tree.items():\n",
    "            value = instance[feature]\n",
    "            if value in subtree:\n",
    "                if isinstance(subtree[value], dict):\n",
    "                    return self._predict_instance(instance, subtree[value])\n",
    "                else:\n",
    "                    return subtree[value]\n",
    "        return self._default_prediction"
   ]
  },
  {
   "cell_type": "markdown",
   "metadata": {},
   "source": [
    "Poniżej przedstawione zostało przykładowe użycie zaimplementowanej klasy. Jako bazowa zwracana wartość została przyjęta najczęściej pojawiająca się wartość ze zbioru wyników dla zbioru trenującego.\\\n",
    "Aby zbudować drzewo należy wywołać metodę `fit` która jako argumenty przyjmuje zbiór trenujący oraz jego wyniki. Instancja klasy trzyma w sobie jako atrybut stworzone drzewo decyzyjne. Następnie na takim obiekcie można wywołać metodę `predict` która jako argument przyjmuje zbiór, a zwraca predykcje do zbioru dobrane przez algorytm."
   ]
  },
  {
   "cell_type": "code",
   "execution_count": 6,
   "metadata": {},
   "outputs": [
    {
     "name": "stdout",
     "output_type": "stream",
     "text": [
      "Validation data accuracy: \n",
      "              precision    recall  f1-score   support\n",
      "\n",
      "           0       0.69      0.75      0.72      5501\n",
      "           1       0.73      0.66      0.70      5587\n",
      "\n",
      "    accuracy                           0.71     11088\n",
      "   macro avg       0.71      0.71      0.71     11088\n",
      "weighted avg       0.71      0.71      0.71     11088\n",
      "\n"
     ]
    }
   ],
   "source": [
    "target_columns = ['age', 'gender', 'height', 'weight', 'ap_hi', 'ap_lo', 'cholesterol', 'gluc', 'smoke', 'alco', 'active']\n",
    "default_prediction = np.bincount(y_train).argmax()\n",
    "\n",
    "id3 = ID3(target_columns, 10, default_prediction)\n",
    "id3.fit(X_train, y_train);\n",
    "\n",
    "predictions = id3.predict(X_validation)\n",
    "\n",
    "print('Validation data accuracy: ')\n",
    "print(classification_report(y_validation, predictions))"
   ]
  },
  {
   "cell_type": "markdown",
   "metadata": {},
   "source": [
    "W celu dobrania optymalnej maksymalnej głębokości, dla dokładności zaimplementowanego klasyfikatora, przeprowadzona została próba dla całkowitych liczb z przedziału [1, 20]. Na wykresie zostały nałożone dokładności dla zbiorów trenującego oraz walidacyjnego. Zbiór trenujący został nałożony w celu pokazania zależoności pomiędzy tymi dwoma zbiorami a maksymalną głębokością drzew. Można zauważyć, że wraz ze wzrostem maksymalnej głębokości wzrasta dokładność wyników dla zbioru treującego, co widać, że nie jest zasadą dla zbioru walidacyjnego który swoje maksimum na danym przedziale posiada dla wartości `max_depth=5`. Po tej wartości dokładność zaczyna spadać dla zbioru walidacyjnego, a dla trenującego dalej rośnie. Dochodzi tutaj do over-fittingu."
   ]
  },
  {
   "cell_type": "code",
   "execution_count": 7,
   "metadata": {},
   "outputs": [
    {
     "data": {
      "image/png": "[encoded data removed]",
      "text/plain": [
       "<Figure size 640x480 with 1 Axes>"
      ]
     },
     "metadata": {},
     "output_type": "display_data"
    }
   ],
   "source": [
    "default_prediction = np.bincount(y_train).argmax()\n",
    "train_accuracy = []\n",
    "validation_accuracy = []\n",
    "depths = np.arange(1, 21)\n",
    "\n",
    "for depth in depths:\n",
    "    id3 = ID3(target_columns, depth, default_prediction)\n",
    "    id3.fit(X_train, y_train);\n",
    "    train_predicts = np.array(id3.predict(X_train))\n",
    "    validation_predicts = np.array(id3.predict(X_validation))\n",
    "    train_accuracy.append(np.sum(train_predicts==np.array(y_train))/len(y_train))\n",
    "    validation_accuracy.append(np.sum(validation_predicts==np.array(y_validation))/len(y_validation))\n",
    "\n",
    "plt.plot(depths, train_accuracy, depths, validation_accuracy);\n",
    "plt.legend(['train set accuracy', 'validation set accuracy']);\n",
    "plt.show()\n"
   ]
  },
  {
   "cell_type": "markdown",
   "metadata": {},
   "source": [
    "Implementacja została przetestowana dla optymalnej wartości maksymalnej głębokości `max_depth=5` na zbiorze testującym. Jak można zauważyć wyniki są zadowalające, nie odbiegające znacznie od tego co zostało uzyskane podczas poprzedniej próby. Dokładność w przybliżeniu wynosi $73\\%$."
   ]
  },
  {
   "cell_type": "code",
   "execution_count": 8,
   "metadata": {},
   "outputs": [
    {
     "name": "stdout",
     "output_type": "stream",
     "text": [
      "Test data accuracy: \n",
      "              precision    recall  f1-score   support\n",
      "\n",
      "           0       0.71      0.76      0.74      6948\n",
      "           1       0.74      0.69      0.72      6913\n",
      "\n",
      "    accuracy                           0.73     13861\n",
      "   macro avg       0.73      0.73      0.73     13861\n",
      "weighted avg       0.73      0.73      0.73     13861\n",
      "\n"
     ]
    }
   ],
   "source": [
    "id3 = ID3(target_columns, 5, default_prediction)\n",
    "id3.fit(X_train, y_train);\n",
    "\n",
    "predictions = id3.predict(X_test)\n",
    "\n",
    "print('Test data accuracy: ')\n",
    "print(classification_report(y_test, predictions))"
   ]
  },
  {
   "cell_type": "markdown",
   "metadata": {},
   "source": [
    "Dla porównania wyników taka sama próba została przeprowadzona dla implementacji klasyfikatora dostępnej w sklearn. W celu zbliżenia ich do siebie jako kryterium została ustawiona entropia. Jak można zauważyć wyniki są bardzo podobne, co może tylko bardziej potwierdzić działanie własnej implementacji klasyfikatora. "
   ]
  },
  {
   "cell_type": "code",
   "execution_count": 9,
   "metadata": {},
   "outputs": [
    {
     "name": "stdout",
     "output_type": "stream",
     "text": [
      "Sklearn test data accuracy: \n",
      "              precision    recall  f1-score   support\n",
      "\n",
      "           0       0.72      0.75      0.73      6948\n",
      "           1       0.74      0.71      0.72      6913\n",
      "\n",
      "    accuracy                           0.73     13861\n",
      "   macro avg       0.73      0.73      0.73     13861\n",
      "weighted avg       0.73      0.73      0.73     13861\n",
      "\n"
     ]
    }
   ],
   "source": [
    "from sklearn.tree import DecisionTreeClassifier\n",
    "\n",
    "sklearn_id3 = DecisionTreeClassifier(max_depth=5, criterion='entropy')\n",
    "sklearn_id3.fit(X_train, y_train)\n",
    "\n",
    "predictions = sklearn_id3.predict(X_test)\n",
    "\n",
    "print('Sklearn test data accuracy: ')\n",
    "print(classification_report(y_test, predictions))"
   ]
  }
 ],
 "metadata": {
  "kernelspec": {
   "display_name": "Python 3",
   "language": "python",
   "name": "python3"
  },
  "language_info": {
   "codemirror_mode": {
    "name": "ipython",
    "version": 3
   },
   "file_extension": ".py",
   "mimetype": "text/x-python",
   "name": "python",
   "nbconvert_exporter": "python",
   "pygments_lexer": "ipython3",
   "version": "3.10.12"
  }
 },
 "nbformat": 4,
 "nbformat_minor": 2
}
